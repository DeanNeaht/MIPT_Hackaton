{
 "cells": [
  {
   "metadata": {},
   "cell_type": "markdown",
   "source": "# 3. Продуктовые гипотезы",
   "id": "b495fb55da782fcd"
  },
  {
   "metadata": {},
   "cell_type": "markdown",
   "source": "Нашей командой принято решение также проанализировать 2 продуктовые гипотезы (1 готова, вторая в работе).",
   "id": "a3bd8ffba447c396"
  },
  {
   "metadata": {},
   "cell_type": "markdown",
   "source": [
    "GA Sessions\n",
    "Одна строка = один визит на сайт.\n",
    "Описание атрибутов:\n",
    "~ session_id — ID визита;\n",
    "~ client_id — ID посетителя;\n",
    "~ visit_date — дата визита;\n",
    "~ visit_time — время визита;\n",
    "~ visit_number — порядковый номер визита клиента;\n",
    "~ utm_source — канал привлечения;\n",
    "~ utm_medium — тип привлечения;\n",
    "~ utm_campaign — рекламная кампания;\n",
    "~ utm_keyword — ключевое слово;\n",
    "~ device_category — тип устройства;\n",
    "~ device_os — ОС устройства;\n",
    "~ device_brand — марка устройства;\n",
    "~ device_model — модель устройства;\n",
    "~ device_screen_resolution — разрешение экрана;\n",
    "~ device_browser — браузер;\n",
    "~ eo_country — страна;\n",
    "~ geo_city — город.\n",
    "\n",
    "GA Hits\n",
    "Одна строка = одно событие в рамках одного визита на сайт.\n",
    "Описание атрибутов:\n",
    "~ session_id — ID визита;\n",
    "~ hit_date — дата события;\n",
    "~ hit_time — время события;\n",
    "~ hit_number — порядковый номер события в рамках сессии;\n",
    "~ hit_type — тип события;\n",
    "~ hit_referer — источник события;\n",
    "~ hit_page_path — страница события;\n",
    "~ event_category — тип действия;\n",
    "~ event_action — действие;\n",
    "~ event_label — тег действия;\n",
    "~ event_value — значение результата действия."
   ],
   "id": "904e16c1c05aaa4c"
  },
  {
   "cell_type": "code",
   "id": "initial_id",
   "metadata": {
    "collapsed": true,
    "ExecuteTime": {
     "end_time": "2025-05-21T13:54:48.666188Z",
     "start_time": "2025-05-21T13:54:48.663809Z"
    }
   },
   "source": [
    "import pandas as pd\n",
    "from scipy.stats import mannwhitneyu, chi2_contingency\n",
    "import numpy as np\n",
    "import matplotlib.pyplot as plt"
   ],
   "outputs": [],
   "execution_count": 104
  },
  {
   "metadata": {
    "ExecuteTime": {
     "end_time": "2025-05-21T10:06:10.139099Z",
     "start_time": "2025-05-21T10:05:38.043834Z"
    }
   },
   "cell_type": "code",
   "source": [
    "gah = pd.read_csv('ga_hits.csv', low_memory=False)\n",
    "gas = pd.read_csv('ga_sessions.csv', low_memory=False)"
   ],
   "id": "41378428e0df3b0e",
   "outputs": [],
   "execution_count": 19
  },
  {
   "metadata": {
    "ExecuteTime": {
     "end_time": "2025-05-21T10:06:10.145091Z",
     "start_time": "2025-05-21T10:06:10.143103Z"
    }
   },
   "cell_type": "code",
   "source": [
    "# для тестирования возьмём эти действия\n",
    "target_actions = ['sub_car_claim_click', 'sub_car_claim_submit_click', 'sub_open_dialog_click',\n",
    "          'sub_custom_question_submit_click', 'sub_call_number_click', 'sub_callback_submit_click',\n",
    "          'sub_submit_success', 'sub_car_request_submit_click']"
   ],
   "id": "f34d46cf7214b23b",
   "outputs": [],
   "execution_count": 20
  },
  {
   "metadata": {
    "ExecuteTime": {
     "end_time": "2025-05-21T10:06:10.740027Z",
     "start_time": "2025-05-21T10:06:10.156728Z"
    }
   },
   "cell_type": "code",
   "source": "gas.isna().sum()",
   "id": "90a2848b5e90898b",
   "outputs": [
    {
     "data": {
      "text/plain": [
       "session_id                        0\n",
       "client_id                         0\n",
       "visit_date                        0\n",
       "visit_time                        0\n",
       "visit_number                      0\n",
       "utm_source                       97\n",
       "utm_medium                        0\n",
       "utm_campaign                 219603\n",
       "utm_adcontent                335615\n",
       "utm_keyword                 1082061\n",
       "device_category                   0\n",
       "device_os                   1070138\n",
       "device_brand                 367178\n",
       "device_model                1843704\n",
       "device_screen_resolution          0\n",
       "device_browser                    0\n",
       "geo_country                       0\n",
       "geo_city                          0\n",
       "dtype: int64"
      ]
     },
     "execution_count": 21,
     "metadata": {},
     "output_type": "execute_result"
    }
   ],
   "execution_count": 21
  },
  {
   "metadata": {},
   "cell_type": "markdown",
   "source": [
    "Во многих столбцах есть пропуски, мы их заполним как '(not set)', так как по каким-либо причинам они могут быть неизвестны. Например, причины для определения операционной системы могут быть такими:\n",
    "\n",
    "    - не удалось определить ОС (например, браузеры в режиме инкогнито, блокировка трекеров)\n",
    "\n",
    "    - технические ошибки при сборе данных"
   ],
   "id": "97c79524ef8a687c"
  },
  {
   "metadata": {
    "ExecuteTime": {
     "end_time": "2025-05-21T09:49:25.298246Z",
     "start_time": "2025-05-21T09:49:24.471988Z"
    }
   },
   "cell_type": "code",
   "source": [
    "columns_to_exclude = ['visit_date', 'visit_time', 'visit_number', 'target'] # список столбцов, которые нужно оставить без изменений\n",
    "columns_to_convert = [col for col in gas.columns if col not in columns_to_exclude] # список столбцов, которые нужно преобразовать\n",
    "for col in columns_to_convert:\n",
    "    # Заполняем пропуски значением '(not set)'\n",
    "    gas[col] = gas[col].fillna('(not set)')"
   ],
   "id": "a09955a3cc080e17",
   "outputs": [],
   "execution_count": 4
  },
  {
   "metadata": {
    "ExecuteTime": {
     "end_time": "2025-05-21T09:49:33.203130Z",
     "start_time": "2025-05-21T09:49:32.387946Z"
    }
   },
   "cell_type": "code",
   "source": [
    "# объединим visit_date и visit_time и приведём к типу datetime, колонку visit_time после этого удалим\n",
    "gas['visit_date'] = pd.to_datetime(gas['visit_date'] + ' ' + gas['visit_time'])\n",
    "gas = gas.drop(columns=['visit_time'])"
   ],
   "id": "72c33f93dab37bde",
   "outputs": [],
   "execution_count": 5
  },
  {
   "metadata": {
    "ExecuteTime": {
     "end_time": "2025-05-21T09:49:45.261630Z",
     "start_time": "2025-05-21T09:49:45.199724Z"
    }
   },
   "cell_type": "code",
   "source": "gas['hour'] = gas['visit_date'].dt.hour",
   "id": "e0df2501f1027b6f",
   "outputs": [],
   "execution_count": 6
  },
  {
   "metadata": {
    "ExecuteTime": {
     "end_time": "2025-05-21T09:51:27.783852Z",
     "start_time": "2025-05-21T09:51:14.823050Z"
    }
   },
   "cell_type": "code",
   "source": [
    "# Объединяем датасеты для последующего анализа\n",
    "data = gas.merge(gah, on=\"session_id\", how=\"left\")\n",
    "\n",
    "# Создание нового столбца, определяющий конверсию\n",
    "data[\"is_conversion\"] = data['event_action'].isin(target_actions).astype(int)\n",
    "data.head()"
   ],
   "id": "937416938586d3bd",
   "outputs": [
    {
     "data": {
      "text/plain": [
       "                                  session_id              client_id  \\\n",
       "0  9055434745589932991.1637753792.1637753792  2108382700.1637753791   \n",
       "1  9055434745589932991.1637753792.1637753792  2108382700.1637753791   \n",
       "2   905544597018549464.1636867290.1636867290   210838531.1636867288   \n",
       "3  9055446045651783499.1640648526.1640648526  2108385331.1640648523   \n",
       "4  9055446045651783499.1640648526.1640648526  2108385331.1640648523   \n",
       "\n",
       "           visit_date  visit_number            utm_source utm_medium  \\\n",
       "0 2021-11-24 14:36:32             1  ZpYIoDJMcFzVoPFsHGJL     banner   \n",
       "1 2021-11-24 14:36:32             1  ZpYIoDJMcFzVoPFsHGJL     banner   \n",
       "2 2021-11-14 08:21:30             1  MvfHsxITijuriZxsqZqt        cpm   \n",
       "3 2021-12-28 02:42:06             1  ZpYIoDJMcFzVoPFsHGJL     banner   \n",
       "4 2021-12-28 02:42:06             1  ZpYIoDJMcFzVoPFsHGJL     banner   \n",
       "\n",
       "           utm_campaign         utm_adcontent           utm_keyword  \\\n",
       "0  LEoPHuyFvzoNfnzGgfcd  vCIpmpaGBnIQhyYNkXqp  puhZPIYqKXeFPaUviSjo   \n",
       "1  LEoPHuyFvzoNfnzGgfcd  vCIpmpaGBnIQhyYNkXqp  puhZPIYqKXeFPaUviSjo   \n",
       "2  FTjNLDyTrXaWYgZymFkV  xhoenQgDQsgfEPYNPwKO  IGUCNvHlhfHpROGclCit   \n",
       "3  LEoPHuyFvzoNfnzGgfcd  vCIpmpaGBnIQhyYNkXqp  puhZPIYqKXeFPaUviSjo   \n",
       "4  LEoPHuyFvzoNfnzGgfcd  vCIpmpaGBnIQhyYNkXqp  puhZPIYqKXeFPaUviSjo   \n",
       "\n",
       "  device_category  ...  hit_time hit_number hit_type hit_referer  \\\n",
       "0          mobile  ...    3665.0        3.0    event         NaN   \n",
       "1          mobile  ...   46592.0        4.0    event         NaN   \n",
       "2          mobile  ...     921.0        3.0    event         NaN   \n",
       "3          mobile  ...   84155.0       10.0    event         NaN   \n",
       "4          mobile  ...  102979.0       13.0    event         NaN   \n",
       "\n",
       "                                       hit_page_path    event_category  \\\n",
       "0                             podpiska.sberauto.com/     sub_page_view   \n",
       "1                             podpiska.sberauto.com/  sub_button_click   \n",
       "2                             podpiska.sberauto.com/     sub_page_view   \n",
       "3  sberauto.com/cars?utm_source_initial=sbol&utm_...       search_form   \n",
       "4  sberauto.com/cars?utm_source_initial=sbol&utm_...       search_form   \n",
       "\n",
       "          event_action           event_label event_value  is_conversion  \n",
       "0          sub_landing                   NaN         NaN              0  \n",
       "1  sub_view_cars_click  vodKSlUobUWTVlgsJqdI         NaN              0  \n",
       "2          sub_landing                   NaN         NaN              0  \n",
       "3   search_form_region  KWTCzSIXzoqUWjfUQMgP         NaN              0  \n",
       "4   search_form_region  CBqnBQaKoQUyWJhLcxxN         NaN              0  \n",
       "\n",
       "[5 rows x 29 columns]"
      ],
      "text/html": [
       "<div>\n",
       "<style scoped>\n",
       "    .dataframe tbody tr th:only-of-type {\n",
       "        vertical-align: middle;\n",
       "    }\n",
       "\n",
       "    .dataframe tbody tr th {\n",
       "        vertical-align: top;\n",
       "    }\n",
       "\n",
       "    .dataframe thead th {\n",
       "        text-align: right;\n",
       "    }\n",
       "</style>\n",
       "<table border=\"1\" class=\"dataframe\">\n",
       "  <thead>\n",
       "    <tr style=\"text-align: right;\">\n",
       "      <th></th>\n",
       "      <th>session_id</th>\n",
       "      <th>client_id</th>\n",
       "      <th>visit_date</th>\n",
       "      <th>visit_number</th>\n",
       "      <th>utm_source</th>\n",
       "      <th>utm_medium</th>\n",
       "      <th>utm_campaign</th>\n",
       "      <th>utm_adcontent</th>\n",
       "      <th>utm_keyword</th>\n",
       "      <th>device_category</th>\n",
       "      <th>...</th>\n",
       "      <th>hit_time</th>\n",
       "      <th>hit_number</th>\n",
       "      <th>hit_type</th>\n",
       "      <th>hit_referer</th>\n",
       "      <th>hit_page_path</th>\n",
       "      <th>event_category</th>\n",
       "      <th>event_action</th>\n",
       "      <th>event_label</th>\n",
       "      <th>event_value</th>\n",
       "      <th>is_conversion</th>\n",
       "    </tr>\n",
       "  </thead>\n",
       "  <tbody>\n",
       "    <tr>\n",
       "      <th>0</th>\n",
       "      <td>9055434745589932991.1637753792.1637753792</td>\n",
       "      <td>2108382700.1637753791</td>\n",
       "      <td>2021-11-24 14:36:32</td>\n",
       "      <td>1</td>\n",
       "      <td>ZpYIoDJMcFzVoPFsHGJL</td>\n",
       "      <td>banner</td>\n",
       "      <td>LEoPHuyFvzoNfnzGgfcd</td>\n",
       "      <td>vCIpmpaGBnIQhyYNkXqp</td>\n",
       "      <td>puhZPIYqKXeFPaUviSjo</td>\n",
       "      <td>mobile</td>\n",
       "      <td>...</td>\n",
       "      <td>3665.0</td>\n",
       "      <td>3.0</td>\n",
       "      <td>event</td>\n",
       "      <td>NaN</td>\n",
       "      <td>podpiska.sberauto.com/</td>\n",
       "      <td>sub_page_view</td>\n",
       "      <td>sub_landing</td>\n",
       "      <td>NaN</td>\n",
       "      <td>NaN</td>\n",
       "      <td>0</td>\n",
       "    </tr>\n",
       "    <tr>\n",
       "      <th>1</th>\n",
       "      <td>9055434745589932991.1637753792.1637753792</td>\n",
       "      <td>2108382700.1637753791</td>\n",
       "      <td>2021-11-24 14:36:32</td>\n",
       "      <td>1</td>\n",
       "      <td>ZpYIoDJMcFzVoPFsHGJL</td>\n",
       "      <td>banner</td>\n",
       "      <td>LEoPHuyFvzoNfnzGgfcd</td>\n",
       "      <td>vCIpmpaGBnIQhyYNkXqp</td>\n",
       "      <td>puhZPIYqKXeFPaUviSjo</td>\n",
       "      <td>mobile</td>\n",
       "      <td>...</td>\n",
       "      <td>46592.0</td>\n",
       "      <td>4.0</td>\n",
       "      <td>event</td>\n",
       "      <td>NaN</td>\n",
       "      <td>podpiska.sberauto.com/</td>\n",
       "      <td>sub_button_click</td>\n",
       "      <td>sub_view_cars_click</td>\n",
       "      <td>vodKSlUobUWTVlgsJqdI</td>\n",
       "      <td>NaN</td>\n",
       "      <td>0</td>\n",
       "    </tr>\n",
       "    <tr>\n",
       "      <th>2</th>\n",
       "      <td>905544597018549464.1636867290.1636867290</td>\n",
       "      <td>210838531.1636867288</td>\n",
       "      <td>2021-11-14 08:21:30</td>\n",
       "      <td>1</td>\n",
       "      <td>MvfHsxITijuriZxsqZqt</td>\n",
       "      <td>cpm</td>\n",
       "      <td>FTjNLDyTrXaWYgZymFkV</td>\n",
       "      <td>xhoenQgDQsgfEPYNPwKO</td>\n",
       "      <td>IGUCNvHlhfHpROGclCit</td>\n",
       "      <td>mobile</td>\n",
       "      <td>...</td>\n",
       "      <td>921.0</td>\n",
       "      <td>3.0</td>\n",
       "      <td>event</td>\n",
       "      <td>NaN</td>\n",
       "      <td>podpiska.sberauto.com/</td>\n",
       "      <td>sub_page_view</td>\n",
       "      <td>sub_landing</td>\n",
       "      <td>NaN</td>\n",
       "      <td>NaN</td>\n",
       "      <td>0</td>\n",
       "    </tr>\n",
       "    <tr>\n",
       "      <th>3</th>\n",
       "      <td>9055446045651783499.1640648526.1640648526</td>\n",
       "      <td>2108385331.1640648523</td>\n",
       "      <td>2021-12-28 02:42:06</td>\n",
       "      <td>1</td>\n",
       "      <td>ZpYIoDJMcFzVoPFsHGJL</td>\n",
       "      <td>banner</td>\n",
       "      <td>LEoPHuyFvzoNfnzGgfcd</td>\n",
       "      <td>vCIpmpaGBnIQhyYNkXqp</td>\n",
       "      <td>puhZPIYqKXeFPaUviSjo</td>\n",
       "      <td>mobile</td>\n",
       "      <td>...</td>\n",
       "      <td>84155.0</td>\n",
       "      <td>10.0</td>\n",
       "      <td>event</td>\n",
       "      <td>NaN</td>\n",
       "      <td>sberauto.com/cars?utm_source_initial=sbol&amp;utm_...</td>\n",
       "      <td>search_form</td>\n",
       "      <td>search_form_region</td>\n",
       "      <td>KWTCzSIXzoqUWjfUQMgP</td>\n",
       "      <td>NaN</td>\n",
       "      <td>0</td>\n",
       "    </tr>\n",
       "    <tr>\n",
       "      <th>4</th>\n",
       "      <td>9055446045651783499.1640648526.1640648526</td>\n",
       "      <td>2108385331.1640648523</td>\n",
       "      <td>2021-12-28 02:42:06</td>\n",
       "      <td>1</td>\n",
       "      <td>ZpYIoDJMcFzVoPFsHGJL</td>\n",
       "      <td>banner</td>\n",
       "      <td>LEoPHuyFvzoNfnzGgfcd</td>\n",
       "      <td>vCIpmpaGBnIQhyYNkXqp</td>\n",
       "      <td>puhZPIYqKXeFPaUviSjo</td>\n",
       "      <td>mobile</td>\n",
       "      <td>...</td>\n",
       "      <td>102979.0</td>\n",
       "      <td>13.0</td>\n",
       "      <td>event</td>\n",
       "      <td>NaN</td>\n",
       "      <td>sberauto.com/cars?utm_source_initial=sbol&amp;utm_...</td>\n",
       "      <td>search_form</td>\n",
       "      <td>search_form_region</td>\n",
       "      <td>CBqnBQaKoQUyWJhLcxxN</td>\n",
       "      <td>NaN</td>\n",
       "      <td>0</td>\n",
       "    </tr>\n",
       "  </tbody>\n",
       "</table>\n",
       "<p>5 rows × 29 columns</p>\n",
       "</div>"
      ]
     },
     "execution_count": 9,
     "metadata": {},
     "output_type": "execute_result"
    }
   ],
   "execution_count": 9
  },
  {
   "metadata": {
    "ExecuteTime": {
     "end_time": "2025-05-21T10:13:10.519584Z",
     "start_time": "2025-05-21T10:13:10.193202Z"
    }
   },
   "cell_type": "code",
   "source": [
    "# Посмотрим часто встречающиеся OS\n",
    "print(data[\"device_os\"].value_counts())"
   ],
   "id": "a031e4a77dfd3c9c",
   "outputs": [
    {
     "name": "stdout",
     "output_type": "stream",
     "text": [
      "device_os\n",
      "(not set)        9215059\n",
      "Android          3472049\n",
      "iOS              1760463\n",
      "Windows          1022091\n",
      "Macintosh         311143\n",
      "Linux              31436\n",
      "Chrome OS            378\n",
      "BlackBerry           214\n",
      "Tizen                 99\n",
      "Firefox OS            37\n",
      "Nokia                 13\n",
      "Windows Phone          9\n",
      "Samsung                4\n",
      "Name: count, dtype: int64\n"
     ]
    }
   ],
   "execution_count": 22
  },
  {
   "metadata": {},
   "cell_type": "markdown",
   "source": "ОС вроде Tizen, Firefox OS, BlackBerry и Nokia встречаются редко → малая выборка для анализа. Поэтому было принято решение объединить их в одну группу \"Other_OS\".",
   "id": "6274e1e771154c6b"
  },
  {
   "metadata": {
    "ExecuteTime": {
     "end_time": "2025-05-21T10:16:17.960360Z",
     "start_time": "2025-05-21T10:16:16.082915Z"
    }
   },
   "cell_type": "code",
   "source": [
    "rare_os = ['Tizen', 'Firefox OS', 'BlackBerry', 'Nokia', 'Windows Phone', 'Samsung', 'Chrome OS']\n",
    "data['device_os_grouped'] = data['device_os'].apply(lambda x: x if x not in rare_os else 'Other_OS')\n",
    "\n",
    "# Теперь посмотрим какую долю занимают ОС\n",
    "os_distribution = data['device_os_grouped'].value_counts(normalize=True) * 100\n",
    "print(os_distribution)"
   ],
   "id": "48e0abff241c90fe",
   "outputs": [
    {
     "name": "stdout",
     "output_type": "stream",
     "text": [
      "device_os_grouped\n",
      "(not set)    58.275229\n",
      "Android      21.956935\n",
      "iOS          11.133014\n",
      "Windows       6.463614\n",
      "Macintosh     1.967641\n",
      "Linux         0.198799\n",
      "Other_OS      0.004768\n",
      "Name: proportion, dtype: float64\n"
     ]
    }
   ],
   "execution_count": 28
  },
  {
   "metadata": {},
   "cell_type": "markdown",
   "source": "Самые часто встречающиеся ОС - Android и iOS.",
   "id": "108990d9d1ef8b0e"
  },
  {
   "metadata": {
    "ExecuteTime": {
     "end_time": "2025-05-21T10:25:37.642302Z",
     "start_time": "2025-05-21T10:25:34.418565Z"
    }
   },
   "cell_type": "code",
   "source": [
    "# Группировка по session_id и device_os\n",
    "conversion_data = data.groupby([\"session_id\", \"device_os_grouped\"]).agg(\n",
    "    is_conversion=(\"is_conversion\", \"max\")  # 1, если в сессии было целевое действие\n",
    ").reset_index()"
   ],
   "id": "80f3efb31eff8e73",
   "outputs": [],
   "execution_count": 37
  },
  {
   "metadata": {},
   "cell_type": "markdown",
   "source": "Conversation Rate/CR — доля визитов, в которых было совершено хотя бы одно целевое действие. Теперь рассчитаем для каждой операционной системы её CR.",
   "id": "67c9d59a3ab7f438"
  },
  {
   "metadata": {
    "ExecuteTime": {
     "end_time": "2025-05-21T12:34:49.378725Z",
     "start_time": "2025-05-21T12:34:48.630321Z"
    }
   },
   "cell_type": "code",
   "source": [
    "cr_by_os = conversion_data.groupby(\"device_os_grouped\").agg(\n",
    "    total_sessions=(\"session_id\", \"nunique\"),\n",
    "    conversions=(\"is_conversion\", \"sum\")\n",
    ").reset_index()\n",
    "\n",
    "cr_by_os[\"CR\"] = cr_by_os[\"conversions\"] / cr_by_os[\"total_sessions\"] * 100\n",
    "display(cr_by_os)"
   ],
   "id": "114a1b7a4c95b368",
   "outputs": [
    {
     "data": {
      "text/plain": [
       "  device_os_grouped  total_sessions  conversions        CR\n",
       "0         (not set)         1070502        34437  3.216902\n",
       "1           Android          464054         9463  2.039202\n",
       "2             Linux            5120           90  1.757812\n",
       "3         Macintosh           24824          772  3.109894\n",
       "4          Other_OS             131            0  0.000000\n",
       "5           Windows           88307         1633  1.849231\n",
       "6               iOS          207104         3919  1.892286"
      ],
      "text/html": [
       "<div>\n",
       "<style scoped>\n",
       "    .dataframe tbody tr th:only-of-type {\n",
       "        vertical-align: middle;\n",
       "    }\n",
       "\n",
       "    .dataframe tbody tr th {\n",
       "        vertical-align: top;\n",
       "    }\n",
       "\n",
       "    .dataframe thead th {\n",
       "        text-align: right;\n",
       "    }\n",
       "</style>\n",
       "<table border=\"1\" class=\"dataframe\">\n",
       "  <thead>\n",
       "    <tr style=\"text-align: right;\">\n",
       "      <th></th>\n",
       "      <th>device_os_grouped</th>\n",
       "      <th>total_sessions</th>\n",
       "      <th>conversions</th>\n",
       "      <th>CR</th>\n",
       "    </tr>\n",
       "  </thead>\n",
       "  <tbody>\n",
       "    <tr>\n",
       "      <th>0</th>\n",
       "      <td>(not set)</td>\n",
       "      <td>1070502</td>\n",
       "      <td>34437</td>\n",
       "      <td>3.216902</td>\n",
       "    </tr>\n",
       "    <tr>\n",
       "      <th>1</th>\n",
       "      <td>Android</td>\n",
       "      <td>464054</td>\n",
       "      <td>9463</td>\n",
       "      <td>2.039202</td>\n",
       "    </tr>\n",
       "    <tr>\n",
       "      <th>2</th>\n",
       "      <td>Linux</td>\n",
       "      <td>5120</td>\n",
       "      <td>90</td>\n",
       "      <td>1.757812</td>\n",
       "    </tr>\n",
       "    <tr>\n",
       "      <th>3</th>\n",
       "      <td>Macintosh</td>\n",
       "      <td>24824</td>\n",
       "      <td>772</td>\n",
       "      <td>3.109894</td>\n",
       "    </tr>\n",
       "    <tr>\n",
       "      <th>4</th>\n",
       "      <td>Other_OS</td>\n",
       "      <td>131</td>\n",
       "      <td>0</td>\n",
       "      <td>0.000000</td>\n",
       "    </tr>\n",
       "    <tr>\n",
       "      <th>5</th>\n",
       "      <td>Windows</td>\n",
       "      <td>88307</td>\n",
       "      <td>1633</td>\n",
       "      <td>1.849231</td>\n",
       "    </tr>\n",
       "    <tr>\n",
       "      <th>6</th>\n",
       "      <td>iOS</td>\n",
       "      <td>207104</td>\n",
       "      <td>3919</td>\n",
       "      <td>1.892286</td>\n",
       "    </tr>\n",
       "  </tbody>\n",
       "</table>\n",
       "</div>"
      ]
     },
     "metadata": {},
     "output_type": "display_data"
    }
   ],
   "execution_count": 45
  },
  {
   "metadata": {},
   "cell_type": "markdown",
   "source": "Интересно, что хотя iOS и Android имеют низкий CR, Macintosh и \"(not set)\" показывают более высокую конверсию.",
   "id": "1792e3c380b718cb"
  },
  {
   "metadata": {},
   "cell_type": "markdown",
   "source": [
    "**Гипотеза 1:** Пользователи с операционной системой Macintosh и сессиями с неопределенной ОС (not set) конвертируются чаще, потому что они:\n",
    "\n",
    "1. Чаще используют десктопные устройства (Mac), где сайт лучше адаптирован для больших экранов, а пользователи детальнее изучают условия аренды.\n",
    "\n",
    "2. Сегмент (not set) может включать трафик из платных каналов (например, email-рассылки), где аудитория уже заинтересована в услуге."
   ],
   "id": "d41d57a946a227b1"
  },
  {
   "metadata": {},
   "cell_type": "markdown",
   "source": [
    "Для проверки влияние операционной системы на конверсию используем A/B-тест (хи-квадрат) для таблицы сопряженностей.\n",
    " - Нулевая гипотеза: Операционная система и конверсии (совершения целевого действия) независимы.\n",
    " - Альтернативная гипотеза: Операционная система влияет на совершение целевого действия"
   ],
   "id": "1fe768a3f699030a"
  },
  {
   "metadata": {
    "ExecuteTime": {
     "end_time": "2025-05-21T12:55:54.137437Z",
     "start_time": "2025-05-21T12:55:54.133421Z"
    }
   },
   "cell_type": "code",
   "source": [
    "# Составляем матрицу сопряженности (первый столбец - конверсия, второй - неконверсия)\n",
    "observed = [[34437, 1070502-34437], # (not set)\n",
    "            [3919, 207104-3919],  # iOS\n",
    "            [9463, 464054-9463], # Android\n",
    "            [90, 5120-90], # Linux\n",
    "            [772, 24824-772], # Macintosh\n",
    "            [1633, 88307-1633], # Windows\n",
    "            [0, 131-0]] # Other OS\n",
    "# Взяли общепринятый уровень значимости для проверки гипотезы\n",
    "alpha = 0.05\n",
    "\n",
    "# Расчёт p-value и статистики chi2\n",
    "chi2, p_value, _, _ = chi2_contingency(observed)\n",
    "print(f\"Нулевая гипотеза: {\"отвергается\" if p_value < alpha else \"не отвергается\"}\")"
   ],
   "id": "f331b20a9a135872",
   "outputs": [
    {
     "name": "stdout",
     "output_type": "stream",
     "text": [
      "Гипотза: отвергается\n"
     ]
    }
   ],
   "execution_count": 66
  },
  {
   "metadata": {},
   "cell_type": "markdown",
   "source": "Так как нулевая гипотеза отвергается, делаем вывод, что операционная система сильно влияет на конверсию.",
   "id": "aca2cb62a0bf67d8"
  },
  {
   "metadata": {},
   "cell_type": "markdown",
   "source": "# 3.1 Анализ для \"(not set)\"\n",
   "id": "211752bfe72d511a"
  },
  {
   "metadata": {},
   "cell_type": "markdown",
   "source": "**Цель:** Выяснить, кто скрывается за этим сегментом и почему их CR выше среднего.",
   "id": "1dc9982fc52758a0"
  },
  {
   "metadata": {},
   "cell_type": "markdown",
   "source": [
    "Для начала проверим влияние email рассылки на конверсию.\n",
    "- Нулевая гипотеза: email и конверсии (совершения целевого действия) независимы.\n",
    " - Альтернативная гипотеза: email влияет на совершение целевого действия"
   ],
   "id": "3f92843a861629c3"
  },
  {
   "metadata": {
    "ExecuteTime": {
     "end_time": "2025-05-21T21:19:03.891692Z",
     "start_time": "2025-05-21T21:19:00.124001Z"
    }
   },
   "cell_type": "code",
   "source": [
    "# Анализируем из каких типов привлецения (utm_medium) приходит трафик с (not set)\n",
    "not_set_data = data[data['device_os_grouped'] == '(not set)']\n",
    "not_set_medium = not_set_data.groupby('utm_medium').agg(\n",
    "    total_sessions=('session_id', 'nunique'),\n",
    "    conversions=(\"is_conversion\", \"sum\"),\n",
    "    cr=('is_conversion', 'mean')\n",
    ").reset_index()\n",
    "\n",
    "top_medium = not_set_medium.sort_values('cr', ascending=False).head(3)\n",
    "display(top_medium)\n",
    "\n",
    "not_set_medium_email = not_set_medium[not_set_medium['utm_medium'] == \"email\"][[\"total_sessions\", \"conversions\"]]\n",
    "not_set_medium_not_email = not_set_medium[not_set_medium['utm_medium'] != \"email\"][[\"total_sessions\", \"conversions\"]].sum(axis=0)"
   ],
   "id": "eaf7772b2d7735f7",
   "outputs": [
    {
     "data": {
      "text/plain": [
       "   utm_medium  total_sessions  conversions        cr\n",
       "18       link              45           86  0.267913\n",
       "16    landing             116           42  0.048331\n",
       "1   (not set)             202           73  0.035784"
      ],
      "text/html": [
       "<div>\n",
       "<style scoped>\n",
       "    .dataframe tbody tr th:only-of-type {\n",
       "        vertical-align: middle;\n",
       "    }\n",
       "\n",
       "    .dataframe tbody tr th {\n",
       "        vertical-align: top;\n",
       "    }\n",
       "\n",
       "    .dataframe thead th {\n",
       "        text-align: right;\n",
       "    }\n",
       "</style>\n",
       "<table border=\"1\" class=\"dataframe\">\n",
       "  <thead>\n",
       "    <tr style=\"text-align: right;\">\n",
       "      <th></th>\n",
       "      <th>utm_medium</th>\n",
       "      <th>total_sessions</th>\n",
       "      <th>conversions</th>\n",
       "      <th>cr</th>\n",
       "    </tr>\n",
       "  </thead>\n",
       "  <tbody>\n",
       "    <tr>\n",
       "      <th>18</th>\n",
       "      <td>link</td>\n",
       "      <td>45</td>\n",
       "      <td>86</td>\n",
       "      <td>0.267913</td>\n",
       "    </tr>\n",
       "    <tr>\n",
       "      <th>16</th>\n",
       "      <td>landing</td>\n",
       "      <td>116</td>\n",
       "      <td>42</td>\n",
       "      <td>0.048331</td>\n",
       "    </tr>\n",
       "    <tr>\n",
       "      <th>1</th>\n",
       "      <td>(not set)</td>\n",
       "      <td>202</td>\n",
       "      <td>73</td>\n",
       "      <td>0.035784</td>\n",
       "    </tr>\n",
       "  </tbody>\n",
       "</table>\n",
       "</div>"
      ]
     },
     "metadata": {},
     "output_type": "display_data"
    }
   ],
   "execution_count": 137
  },
  {
   "metadata": {
    "ExecuteTime": {
     "end_time": "2025-05-21T21:13:02.721035Z",
     "start_time": "2025-05-21T21:13:02.715931Z"
    }
   },
   "cell_type": "code",
   "source": [
    "# Составляем матрицу сопряженности (первый столбец - конверсия, второй - неконверсия)\n",
    "observed = [[not_set_medium_email.values[0][1], not_set_medium_email.values[0][0]-not_set_medium_email.values[0][1]], # email\n",
    "            [not_set_medium_not_email.values[1], not_set_medium_not_email.values[0]-not_set_medium_not_email.values[1]]]  # not email\n",
    "# Взяли общепринятый уровень значимости для проверки гипотезы\n",
    "alpha = 0.05\n",
    "\n",
    "# Расчёт p-value и статистики chi2\n",
    "chi2, p_value, _, _ = chi2_contingency(observed)\n",
    "print(f\"Нулевая гипотеза: {\"отвергается\" if p_value < alpha else \"не отвергается\"}\")"
   ],
   "id": "d8e01857b31c421f",
   "outputs": [
    {
     "name": "stdout",
     "output_type": "stream",
     "text": [
      "Нулевая гипотеза: отвергается\n"
     ]
    }
   ],
   "execution_count": 134
  },
  {
   "metadata": {},
   "cell_type": "markdown",
   "source": "Гипотеза отвергается, следовательно, привлечение по email влияет на конверсию, хотя у нее не самый высокий CR. Далее выясним, по какому источнику чаще конверсируются с неопределённой операционной системой.",
   "id": "e42c2dbf5110b88f"
  },
  {
   "metadata": {
    "ExecuteTime": {
     "end_time": "2025-05-21T21:27:50.309944Z",
     "start_time": "2025-05-21T21:27:48.934033Z"
    }
   },
   "cell_type": "code",
   "source": [
    "# Анализируем из каких каналов (utm_source, utm_medium) приходит трафик с (not set)\n",
    "not_set_sources = not_set_data.groupby('utm_source').agg(\n",
    "    total_sessions=('session_id', 'nunique'),\n",
    "    conversions=(\"is_conversion\", \"sum\"),\n",
    "    cr=('is_conversion', 'mean')\n",
    ").reset_index()\n",
    "display(not_set_sources)"
   ],
   "id": "f32c616f51304ef6",
   "outputs": [
    {
     "data": {
      "text/plain": [
       "               utm_source  total_sessions  conversions        cr\n",
       "0    ANoZJgYuPrWNkAAchryx               9            0  0.000000\n",
       "1    BHcvLfOaCWvWTykYqHVe           78649         5544  0.007081\n",
       "2    BKeImrJuRDZcHiSSTdzm            1418          178  0.011700\n",
       "3    BTOBxRcZAuMDAGcpupRx               1            0  0.000000\n",
       "4    BellrslNBZQZaIxVFGXJ               1            0  0.000000\n",
       "..                    ...             ...          ...       ...\n",
       "186  ySpKPVDYCgmkHVSeLjnJ              29            3  0.010989\n",
       "187  yfjcpPqMeNcSIiswGTeQ               2            0  0.000000\n",
       "188  yxJKymlSGVuKIPTxbysx               3            1  0.100000\n",
       "189  zGUBrOvMRpLqBkJPUsYo               2            0  0.000000\n",
       "190  zwpKjjsMoRVCdipntaHt             360           14  0.008449\n",
       "\n",
       "[191 rows x 4 columns]"
      ],
      "text/html": [
       "<div>\n",
       "<style scoped>\n",
       "    .dataframe tbody tr th:only-of-type {\n",
       "        vertical-align: middle;\n",
       "    }\n",
       "\n",
       "    .dataframe tbody tr th {\n",
       "        vertical-align: top;\n",
       "    }\n",
       "\n",
       "    .dataframe thead th {\n",
       "        text-align: right;\n",
       "    }\n",
       "</style>\n",
       "<table border=\"1\" class=\"dataframe\">\n",
       "  <thead>\n",
       "    <tr style=\"text-align: right;\">\n",
       "      <th></th>\n",
       "      <th>utm_source</th>\n",
       "      <th>total_sessions</th>\n",
       "      <th>conversions</th>\n",
       "      <th>cr</th>\n",
       "    </tr>\n",
       "  </thead>\n",
       "  <tbody>\n",
       "    <tr>\n",
       "      <th>0</th>\n",
       "      <td>ANoZJgYuPrWNkAAchryx</td>\n",
       "      <td>9</td>\n",
       "      <td>0</td>\n",
       "      <td>0.000000</td>\n",
       "    </tr>\n",
       "    <tr>\n",
       "      <th>1</th>\n",
       "      <td>BHcvLfOaCWvWTykYqHVe</td>\n",
       "      <td>78649</td>\n",
       "      <td>5544</td>\n",
       "      <td>0.007081</td>\n",
       "    </tr>\n",
       "    <tr>\n",
       "      <th>2</th>\n",
       "      <td>BKeImrJuRDZcHiSSTdzm</td>\n",
       "      <td>1418</td>\n",
       "      <td>178</td>\n",
       "      <td>0.011700</td>\n",
       "    </tr>\n",
       "    <tr>\n",
       "      <th>3</th>\n",
       "      <td>BTOBxRcZAuMDAGcpupRx</td>\n",
       "      <td>1</td>\n",
       "      <td>0</td>\n",
       "      <td>0.000000</td>\n",
       "    </tr>\n",
       "    <tr>\n",
       "      <th>4</th>\n",
       "      <td>BellrslNBZQZaIxVFGXJ</td>\n",
       "      <td>1</td>\n",
       "      <td>0</td>\n",
       "      <td>0.000000</td>\n",
       "    </tr>\n",
       "    <tr>\n",
       "      <th>...</th>\n",
       "      <td>...</td>\n",
       "      <td>...</td>\n",
       "      <td>...</td>\n",
       "      <td>...</td>\n",
       "    </tr>\n",
       "    <tr>\n",
       "      <th>186</th>\n",
       "      <td>ySpKPVDYCgmkHVSeLjnJ</td>\n",
       "      <td>29</td>\n",
       "      <td>3</td>\n",
       "      <td>0.010989</td>\n",
       "    </tr>\n",
       "    <tr>\n",
       "      <th>187</th>\n",
       "      <td>yfjcpPqMeNcSIiswGTeQ</td>\n",
       "      <td>2</td>\n",
       "      <td>0</td>\n",
       "      <td>0.000000</td>\n",
       "    </tr>\n",
       "    <tr>\n",
       "      <th>188</th>\n",
       "      <td>yxJKymlSGVuKIPTxbysx</td>\n",
       "      <td>3</td>\n",
       "      <td>1</td>\n",
       "      <td>0.100000</td>\n",
       "    </tr>\n",
       "    <tr>\n",
       "      <th>189</th>\n",
       "      <td>zGUBrOvMRpLqBkJPUsYo</td>\n",
       "      <td>2</td>\n",
       "      <td>0</td>\n",
       "      <td>0.000000</td>\n",
       "    </tr>\n",
       "    <tr>\n",
       "      <th>190</th>\n",
       "      <td>zwpKjjsMoRVCdipntaHt</td>\n",
       "      <td>360</td>\n",
       "      <td>14</td>\n",
       "      <td>0.008449</td>\n",
       "    </tr>\n",
       "  </tbody>\n",
       "</table>\n",
       "<p>191 rows × 4 columns</p>\n",
       "</div>"
      ]
     },
     "metadata": {},
     "output_type": "display_data"
    }
   ],
   "execution_count": 138
  },
  {
   "metadata": {},
   "cell_type": "markdown",
   "source": "Большинство utm_source имеют мало сессий (1–10), что делает их CR ненадежным.",
   "id": "7711a912411622b1"
  },
  {
   "metadata": {
    "ExecuteTime": {
     "end_time": "2025-05-21T21:27:52.470697Z",
     "start_time": "2025-05-21T21:27:52.464686Z"
    }
   },
   "cell_type": "code",
   "source": [
    "# Отфильтруем сессии больше 100 и выделим топ-3 с самым высоким CR\n",
    "filtered_not_set_sources = not_set_sources[not_set_sources['total_sessions'] >= 100]\n",
    "top_sources = filtered_not_set_sources.sort_values('cr', ascending=False).head(3)\n",
    "display(top_sources)"
   ],
   "id": "3f79192f09d1b6d8",
   "outputs": [
    {
     "data": {
      "text/plain": [
       "               utm_source  total_sessions  conversions        cr\n",
       "158  oZCzWSykfixnjMPDNjSU            2198          410  0.017407\n",
       "153  ngkgBNjlzLYBofkljaBo             174            7  0.013972\n",
       "113  azajeHUvPOKkHBvWFbjz             105            8  0.012739"
      ],
      "text/html": [
       "<div>\n",
       "<style scoped>\n",
       "    .dataframe tbody tr th:only-of-type {\n",
       "        vertical-align: middle;\n",
       "    }\n",
       "\n",
       "    .dataframe tbody tr th {\n",
       "        vertical-align: top;\n",
       "    }\n",
       "\n",
       "    .dataframe thead th {\n",
       "        text-align: right;\n",
       "    }\n",
       "</style>\n",
       "<table border=\"1\" class=\"dataframe\">\n",
       "  <thead>\n",
       "    <tr style=\"text-align: right;\">\n",
       "      <th></th>\n",
       "      <th>utm_source</th>\n",
       "      <th>total_sessions</th>\n",
       "      <th>conversions</th>\n",
       "      <th>cr</th>\n",
       "    </tr>\n",
       "  </thead>\n",
       "  <tbody>\n",
       "    <tr>\n",
       "      <th>158</th>\n",
       "      <td>oZCzWSykfixnjMPDNjSU</td>\n",
       "      <td>2198</td>\n",
       "      <td>410</td>\n",
       "      <td>0.017407</td>\n",
       "    </tr>\n",
       "    <tr>\n",
       "      <th>153</th>\n",
       "      <td>ngkgBNjlzLYBofkljaBo</td>\n",
       "      <td>174</td>\n",
       "      <td>7</td>\n",
       "      <td>0.013972</td>\n",
       "    </tr>\n",
       "    <tr>\n",
       "      <th>113</th>\n",
       "      <td>azajeHUvPOKkHBvWFbjz</td>\n",
       "      <td>105</td>\n",
       "      <td>8</td>\n",
       "      <td>0.012739</td>\n",
       "    </tr>\n",
       "  </tbody>\n",
       "</table>\n",
       "</div>"
      ]
     },
     "metadata": {},
     "output_type": "display_data"
    }
   ],
   "execution_count": 139
  },
  {
   "metadata": {},
   "cell_type": "markdown",
   "source": "Источник oZCzWSykfixnjMPDNjSU перспективен для более глубокого анализа.",
   "id": "f2c1f2bd6fb3b0d9"
  },
  {
   "metadata": {},
   "cell_type": "markdown",
   "source": [
    "Гипотеза: Источник oZCzWSykfixnjMPDNjSU эффективен из-за релевантного трафика (например, таргетинг на аудиторию, заинтересованную в долгосрочной аренде).\n",
    "Для этого нужно:\n",
    "1. узнать, что это за канал.\n",
    "2. сравнить поведение пользователей из этого источника с другими (по глубине просмотра (hit_number))\n",
    "\n"
   ],
   "id": "6d0b36c29a52d176"
  },
  {
   "metadata": {
    "ExecuteTime": {
     "end_time": "2025-05-21T21:28:03.385Z",
     "start_time": "2025-05-21T21:27:56.187985Z"
    }
   },
   "cell_type": "code",
   "source": [
    "# Определим целевой utm_source\n",
    "TARGET_SOURCE = 'oZCzWSykfixnjMPDNjSU'\n",
    "\n",
    "medium = not_set_data[not_set_data['utm_source'] == 'oZCzWSykfixnjMPDNjSU'][\"utm_medium\"].unique()\n",
    "print(f\"Тип(ы) привлечения у источника: {medium}\")\n",
    "\n",
    "# Фильтрация данных\n",
    "target_data = data[data['utm_source'] == TARGET_SOURCE]\n",
    "control_data = data[data['utm_source'] != TARGET_SOURCE]\n",
    "\n",
    "# Глубина просмотра (макс hit_number в сессии)\n",
    "target_depth = target_data.groupby('session_id')['hit_number'].max().dropna()\n",
    "control_depth = control_data.groupby('session_id')['hit_number'].max().dropna()"
   ],
   "id": "5b11f48e1744b445",
   "outputs": [
    {
     "name": "stdout",
     "output_type": "stream",
     "text": [
      "Тип(ы) привлечения у источника: ['referral']\n"
     ]
    }
   ],
   "execution_count": 140
  },
  {
   "metadata": {},
   "cell_type": "markdown",
   "source": [
    "Распределения целевой группы и контрольной будем сравнивать по критерию Манна-Уитни.\n",
    " - Нулевая гипотеза: распределения одинаковы\n",
    "  - Альтернативная гипотеза: распределения различны"
   ],
   "id": "c26977997b0c0402"
  },
  {
   "metadata": {
    "ExecuteTime": {
     "end_time": "2025-05-21T21:28:03.391046Z",
     "start_time": "2025-05-21T21:28:03.388013Z"
    }
   },
   "cell_type": "code",
   "source": [
    "# Определим функцию, которая будет сравнивать распределения метрик по Манна-Уитни критерию\n",
    "def compare_metrics(metric_name, target_metric, control_metric):\n",
    "    print(f'\\n--- {metric_name} ---')\n",
    "    print(f'Target (n={len(target_metric)}): Мат. ожидание = {np.mean(target_metric):.1f}')\n",
    "    print(f'Control (n={len(control_metric)}): Мат. ожидание = {np.mean(control_metric):.1f}')\n",
    "\n",
    "    # Тест Манна-Уитни для непрерывных метрик\n",
    "    stat, p = mannwhitneyu(target_metric, control_metric, alternative='two-sided')\n",
    "    print(f'U-test: p-value = {p:.4f}')"
   ],
   "id": "24c4b698216809f0",
   "outputs": [],
   "execution_count": 141
  },
  {
   "metadata": {
    "ExecuteTime": {
     "end_time": "2025-05-21T21:28:03.571632Z",
     "start_time": "2025-05-21T21:28:03.426076Z"
    }
   },
   "cell_type": "code",
   "source": "compare_metrics('Глубина просмотра', target_depth, control_depth)",
   "id": "ce927a93d597db35",
   "outputs": [
    {
     "name": "stdout",
     "output_type": "stream",
     "text": [
      "\n",
      "--- Глубина просмотра ---\n",
      "Target (n=2585): Мат. ожидание = 17.3\n",
      "Control (n=1729681): Мат. ожидание = 14.5\n",
      "U-test: p-value = 0.0000\n"
     ]
    }
   ],
   "execution_count": 142
  },
  {
   "metadata": {},
   "cell_type": "markdown",
   "source": "Видим, что тип привлечения у источника это реферальная ссылка. Для глубины посещения критерий показывает, что наш целевой источник значительно влияет на глубину просмотра. В среднем благодаря этому источнику на 3 события больше в сессии. Пользователи из этого источника проявляют более высокую вовлеченность.\n",
   "id": "d45a0661188e0df5"
  },
  {
   "metadata": {},
   "cell_type": "markdown",
   "source": [
    "Первоначальная гипотеза предполагала, что высокая конверсия в сегменте (not set) связана с платными каналами (email). Однако анализ показал:\n",
    "\n",
    "Email имеет статистически значимый CR, но он не максимальный.\n",
    "\n",
    "Самый высокий CR наблюдается у реферального трафика (referral) и типа link, которые не относятся к платным каналам.\n",
    "\n",
    "**Вывод:**\n",
    "Гипотеза о том, что (not set) включает преимущественно платные каналы с заинтересованной аудиторией (гипотеза 1 (пункт 2)), не подтверждается. Основной драйвер конверсии — реферальный трафик и другие источники.\n",
    "\n"
   ],
   "id": "4db2c63768714c92"
  },
  {
   "metadata": {},
   "cell_type": "markdown",
   "source": "# 3.2 Aнализ Macintosh",
   "id": "2f86ddc22e1bc60b"
  },
  {
   "metadata": {},
   "cell_type": "markdown",
   "source": "**Цель:** Понять, почему пользователи Mac конвертируются лучше.",
   "id": "afaf5c31cdd07c77"
  },
  {
   "metadata": {
    "ExecuteTime": {
     "end_time": "2025-05-21T21:36:11.504831Z",
     "start_time": "2025-05-21T21:36:10.742505Z"
    }
   },
   "cell_type": "code",
   "outputs": [
    {
     "data": {
      "text/plain": [
       "  device_category  total_sessions  conversions        cr\n",
       "0         desktop           24804         2774  0.008916\n",
       "1          mobile              10            0  0.000000\n",
       "2          tablet              10            0  0.000000"
      ],
      "text/html": [
       "<div>\n",
       "<style scoped>\n",
       "    .dataframe tbody tr th:only-of-type {\n",
       "        vertical-align: middle;\n",
       "    }\n",
       "\n",
       "    .dataframe tbody tr th {\n",
       "        vertical-align: top;\n",
       "    }\n",
       "\n",
       "    .dataframe thead th {\n",
       "        text-align: right;\n",
       "    }\n",
       "</style>\n",
       "<table border=\"1\" class=\"dataframe\">\n",
       "  <thead>\n",
       "    <tr style=\"text-align: right;\">\n",
       "      <th></th>\n",
       "      <th>device_category</th>\n",
       "      <th>total_sessions</th>\n",
       "      <th>conversions</th>\n",
       "      <th>cr</th>\n",
       "    </tr>\n",
       "  </thead>\n",
       "  <tbody>\n",
       "    <tr>\n",
       "      <th>0</th>\n",
       "      <td>desktop</td>\n",
       "      <td>24804</td>\n",
       "      <td>2774</td>\n",
       "      <td>0.008916</td>\n",
       "    </tr>\n",
       "    <tr>\n",
       "      <th>1</th>\n",
       "      <td>mobile</td>\n",
       "      <td>10</td>\n",
       "      <td>0</td>\n",
       "      <td>0.000000</td>\n",
       "    </tr>\n",
       "    <tr>\n",
       "      <th>2</th>\n",
       "      <td>tablet</td>\n",
       "      <td>10</td>\n",
       "      <td>0</td>\n",
       "      <td>0.000000</td>\n",
       "    </tr>\n",
       "  </tbody>\n",
       "</table>\n",
       "</div>"
      ]
     },
     "metadata": {},
     "output_type": "display_data"
    },
    {
     "data": {
      "text/plain": [
       "<Figure size 1000x500 with 1 Axes>"
      ],
      "image/png": "[encoded data removed]"
     },
     "metadata": {},
     "output_type": "display_data"
    }
   ],
   "execution_count": 146,
   "source": [
    "mac_data = data[data['device_os_grouped'] == 'Macintosh']\n",
    "mac_device_category = mac_data.groupby(\"device_category\").agg(\n",
    "    total_sessions=('session_id', 'nunique'),\n",
    "    conversions=('is_conversion', 'sum'),\n",
    "    cr=('is_conversion', 'mean')\n",
    ").reset_index()\n",
    "display(mac_device_category)\n",
    "\n",
    "# Визуализация\n",
    "plt.figure(figsize=(10, 5))\n",
    "plt.bar(mac_device_category['device_category'], mac_device_category['cr'], color=['#1f77b4', '#ff7f0e', '#2ca02c'])\n",
    "plt.title('Conversion Rate по типам Mac-устройств')\n",
    "plt.ylabel('CR (%)')\n",
    "plt.grid(axis='y')\n",
    "plt.show()"
   ],
   "id": "57e8e408844634e5"
  },
  {
   "metadata": {},
   "cell_type": "markdown",
   "source": "Странно, что есть телефоны и планшеты с ОС Макинтош. Возможно, это ошибка в данных. Но видно, что все конверсии были сделаны с компьютеров.",
   "id": "55b6fb6be690485b"
  },
  {
   "metadata": {
    "ExecuteTime": {
     "end_time": "2025-05-21T21:31:51.008888Z",
     "start_time": "2025-05-21T21:31:50.956332Z"
    }
   },
   "cell_type": "code",
   "source": [
    "# Анализ страниц\n",
    "page_analysis = mac_data.groupby('hit_page_path').agg(\n",
    "    page_views=('hit_number', 'count'),\n",
    "    conversions=('is_conversion', 'sum'),\n",
    "    cr=('is_conversion', 'mean')\n",
    ").reset_index()\n",
    "\n",
    "# Фильтрация и сортировка\n",
    "top_page_analysis = page_analysis[\n",
    "    (page_analysis['page_views'] > 100) &  # Исключаем редко посещаемые\n",
    "    (~page_analysis['hit_page_path'].str.contains('admin|test', na=False))  # Исключаем техстраницы\n",
    "].sort_values('cr', ascending=False).head(3)\n",
    "display(top_page_analysis)"
   ],
   "id": "cd98b79d9f9dfbde",
   "outputs": [
    {
     "data": {
      "text/plain": [
       "                                          hit_page_path  page_views  \\\n",
       "1746                          podpiska.sberauto.com/faq         537   \n",
       "1887                     podpiska.sberauto.com/greenday         482   \n",
       "4609  sberauto.com/cars/all/mercedes-benz/cla-klasse...         903   \n",
       "\n",
       "      conversions        cr  \n",
       "1746           75  0.139665  \n",
       "1887           41  0.085062  \n",
       "4609           58  0.064230  "
      ],
      "text/html": [
       "<div>\n",
       "<style scoped>\n",
       "    .dataframe tbody tr th:only-of-type {\n",
       "        vertical-align: middle;\n",
       "    }\n",
       "\n",
       "    .dataframe tbody tr th {\n",
       "        vertical-align: top;\n",
       "    }\n",
       "\n",
       "    .dataframe thead th {\n",
       "        text-align: right;\n",
       "    }\n",
       "</style>\n",
       "<table border=\"1\" class=\"dataframe\">\n",
       "  <thead>\n",
       "    <tr style=\"text-align: right;\">\n",
       "      <th></th>\n",
       "      <th>hit_page_path</th>\n",
       "      <th>page_views</th>\n",
       "      <th>conversions</th>\n",
       "      <th>cr</th>\n",
       "    </tr>\n",
       "  </thead>\n",
       "  <tbody>\n",
       "    <tr>\n",
       "      <th>1746</th>\n",
       "      <td>podpiska.sberauto.com/faq</td>\n",
       "      <td>537</td>\n",
       "      <td>75</td>\n",
       "      <td>0.139665</td>\n",
       "    </tr>\n",
       "    <tr>\n",
       "      <th>1887</th>\n",
       "      <td>podpiska.sberauto.com/greenday</td>\n",
       "      <td>482</td>\n",
       "      <td>41</td>\n",
       "      <td>0.085062</td>\n",
       "    </tr>\n",
       "    <tr>\n",
       "      <th>4609</th>\n",
       "      <td>sberauto.com/cars/all/mercedes-benz/cla-klasse...</td>\n",
       "      <td>903</td>\n",
       "      <td>58</td>\n",
       "      <td>0.064230</td>\n",
       "    </tr>\n",
       "  </tbody>\n",
       "</table>\n",
       "</div>"
      ]
     },
     "metadata": {},
     "output_type": "display_data"
    }
   ],
   "execution_count": 145
  },
  {
   "metadata": {},
   "cell_type": "markdown",
   "source": [
    "По таблице виден топ-3 страницы по целевым действиям.\n",
    "\n",
    "podpiska.sberauto.com/faq - страница с ответами на частые вопросы, высокий CR может означать, что пользователи находят здесь ключевую информацию, которая стимулирует их к действию.\n",
    "\n",
    "podpiska.sberauto.com/greenday - возможно, страница с акциями, тогда высокий CR говорит о том, что таргетированные промо-кампании для Mac-аудитории работают.\n",
    "\n",
    "sberauto.com/cars/all/mercedes-benz/cla-klasse... - страница определённой модели машины. Пользователи Mac чаще конвертируются на страницах с детальными описаниями и фото.\n",
    "\n",
    "**Вывод:**\n",
    "\n",
    "Гипотеза 1 (пункт 1) подтверждена:\n",
    "\n",
    "- Mac-десктопы — ключевой сегмент с высокой конверсией благодаря удобству интерфейса.\n",
    "\n",
    "- Страницы с детальной информацией (FAQ, каталог) играют решающую роль в принятии решения."
   ],
   "id": "fa8076805d51989a"
  },
  {
   "metadata": {},
   "cell_type": "code",
   "outputs": [],
   "execution_count": null,
   "source": "",
   "id": "23ae717bb1550747"
  }
 ],
 "metadata": {
  "kernelspec": {
   "display_name": "Python 3",
   "language": "python",
   "name": "python3"
  },
  "language_info": {
   "codemirror_mode": {
    "name": "ipython",
    "version": 2
   },
   "file_extension": ".py",
   "mimetype": "text/x-python",
   "name": "python",
   "nbconvert_exporter": "python",
   "pygments_lexer": "ipython2",
   "version": "2.7.6"
  }
 },
 "nbformat": 4,
 "nbformat_minor": 5
}
